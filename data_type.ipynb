{
  "nbformat": 4,
  "nbformat_minor": 0,
  "metadata": {
    "colab": {
      "provenance": [],
      "toc_visible": true,
      "include_colab_link": true
    },
    "kernelspec": {
      "name": "python3",
      "display_name": "Python 3"
    },
    "language_info": {
      "name": "python"
    }
  },
  "cells": [
    {
      "cell_type": "markdown",
      "metadata": {
        "id": "view-in-github",
        "colab_type": "text"
      },
      "source": [
        "<a href=\"https://colab.research.google.com/github/Na-youngmin/Base_python/blob/main/data_type.ipynb\" target=\"_parent\"><img src=\"https://colab.research.google.com/assets/colab-badge.svg\" alt=\"Open In Colab\"/></a>"
      ]
    },
    {
      "cell_type": "markdown",
      "source": [
        "# 리스트는 **순회형**, 그리고 **인덱스**로 접근할 수 있어요!"
      ],
      "metadata": {
        "id": "6gU5V28VCAgE"
      }
    },
    {
      "cell_type": "code",
      "source": [
        "# 리스트의 인덱스 0부터 시작\n",
        "fruits = [\"딸기\", \"귤\", \"포도\"]\n",
        "# 인덱스     0     1       2      3\n",
        "# 거꾸로    -3     -2     -1\n",
        "print(fruits)\n",
        "print(type(fruits))"
      ],
      "metadata": {
        "colab": {
          "base_uri": "https://localhost:8080/"
        },
        "id": "cLRbUx4o3P5_",
        "outputId": "6ac3a787-8cb7-417d-a92d-5eae27a9ba0e"
      },
      "execution_count": null,
      "outputs": [
        {
          "output_type": "stream",
          "name": "stdout",
          "text": [
            "['딸기', '귤', '포도']\n",
            "<class 'list'>\n"
          ]
        }
      ]
    },
    {
      "cell_type": "code",
      "source": [
        "idx = 2\n",
        "print(fruits[idx])\n",
        "print(type(fruits[idx]))"
      ],
      "metadata": {
        "colab": {
          "base_uri": "https://localhost:8080/"
        },
        "id": "tUg3XPnsCHgc",
        "outputId": "ae0ff988-8a5b-448f-965d-c9ad215c4f1a"
      },
      "execution_count": null,
      "outputs": [
        {
          "output_type": "stream",
          "name": "stdout",
          "text": [
            "포도\n",
            "<class 'str'>\n"
          ]
        }
      ]
    },
    {
      "cell_type": "code",
      "source": [
        "del(딸기) # 특정 변수를 메모리에서 제거할 때 사용\n",
        "# del (delete)"
      ],
      "metadata": {
        "id": "RzW-kCjOA59c"
      },
      "execution_count": null,
      "outputs": []
    },
    {
      "cell_type": "markdown",
      "source": [
        "# 그리고 Python에서는 문자열도 리스트처럼 사용할 수 있다!"
      ],
      "metadata": {
        "id": "r_-hKYvzDThF"
      }
    },
    {
      "cell_type": "code",
      "source": [
        "mystring = \"Hello, World!\""
      ],
      "metadata": {
        "id": "DvAU-166BpE0"
      },
      "execution_count": null,
      "outputs": []
    },
    {
      "cell_type": "code",
      "source": [
        "print(mystring[-1])"
      ],
      "metadata": {
        "colab": {
          "base_uri": "https://localhost:8080/"
        },
        "id": "UUS5nwnwDau3",
        "outputId": "e1cfa95d-2378-493d-8e58-2efe8395cc6e"
      },
      "execution_count": null,
      "outputs": [
        {
          "output_type": "stream",
          "name": "stdout",
          "text": [
            "!\n"
          ]
        }
      ]
    },
    {
      "cell_type": "markdown",
      "source": [
        "# *string.split()*의 결과값은 리스트이다!"
      ],
      "metadata": {
        "id": "IgaT6RlpDvG8"
      }
    },
    {
      "cell_type": "code",
      "source": [
        "color_string = \"빨강,파랑,초록,검정,하양\"\n",
        "print(color_string.split(\",\"))\n",
        "print(type(color_string.split(\",\")))"
      ],
      "metadata": {
        "colab": {
          "base_uri": "https://localhost:8080/"
        },
        "id": "h1cr2AF8DgKO",
        "outputId": "4e514dca-d1fd-48b4-bb7f-aa526af245ac"
      },
      "execution_count": null,
      "outputs": [
        {
          "output_type": "stream",
          "name": "stdout",
          "text": [
            "['빨강', '파랑', '초록', '검정', '하양']\n",
            "<class 'list'>\n"
          ]
        }
      ]
    },
    {
      "cell_type": "code",
      "source": [
        "colors = color_string.split(\",\")\n",
        "print(colors[-1])"
      ],
      "metadata": {
        "colab": {
          "base_uri": "https://localhost:8080/"
        },
        "id": "uw5rK6uIEEMy",
        "outputId": "51457985-2be3-43e4-cafe-d0308dbe84c5"
      },
      "execution_count": null,
      "outputs": [
        {
          "output_type": "stream",
          "name": "stdout",
          "text": [
            "하양\n"
          ]
        }
      ]
    },
    {
      "cell_type": "markdown",
      "source": [
        "### *slice* 인덱스를 활용해 일부분 잘라내기"
      ],
      "metadata": {
        "id": "7IgozUmuElIc"
      }
    },
    {
      "cell_type": "code",
      "source": [
        "# ['빨강', '파랑', '초록', '검정', '하양']\n",
        "#    0        1       2       3       4\n",
        "#   -5        -4     -3       -2     -1\n",
        "print(colors)"
      ],
      "metadata": {
        "colab": {
          "base_uri": "https://localhost:8080/"
        },
        "id": "MLgMk49vEZVr",
        "outputId": "91f65d86-0e69-4a30-f2a0-952116b5c052"
      },
      "execution_count": null,
      "outputs": [
        {
          "output_type": "stream",
          "name": "stdout",
          "text": [
            "['빨강', '파랑', '초록', '검정', '하양']\n"
          ]
        }
      ]
    },
    {
      "cell_type": "code",
      "source": [
        "print(colors[::-1]) # 리스트의 순서를 뒤집을 때 쓴다"
      ],
      "metadata": {
        "colab": {
          "base_uri": "https://localhost:8080/"
        },
        "id": "NHMhc9xXErxJ",
        "outputId": "8e11d35d-bfd2-4197-efa8-afcf50dde8dd"
      },
      "execution_count": null,
      "outputs": [
        {
          "output_type": "stream",
          "name": "stdout",
          "text": [
            "['하양', '검정', '초록', '파랑', '빨강']\n"
          ]
        }
      ]
    },
    {
      "cell_type": "code",
      "source": [
        "print(mystring)\n",
        "print(mystring[0:4])\n",
        "print(mystring[::-1])"
      ],
      "metadata": {
        "colab": {
          "base_uri": "https://localhost:8080/"
        },
        "id": "4KTUXN8qE10t",
        "outputId": "7a92bd6c-8792-4256-dff6-2f5d3fc34fc5"
      },
      "execution_count": null,
      "outputs": [
        {
          "output_type": "stream",
          "name": "stdout",
          "text": [
            "Hello, World!\n",
            "Hell\n",
            "!dlroW ,olleH\n"
          ]
        }
      ]
    },
    {
      "cell_type": "code",
      "source": [
        "print(fruits)"
      ],
      "metadata": {
        "colab": {
          "base_uri": "https://localhost:8080/"
        },
        "id": "xGr3wcNjFnV2",
        "outputId": "816172f4-7b9d-470d-99e8-86bf8bcb9a0d"
      },
      "execution_count": null,
      "outputs": [
        {
          "output_type": "stream",
          "name": "stdout",
          "text": [
            "['딸기', '귤', '포도']\n"
          ]
        }
      ]
    },
    {
      "cell_type": "code",
      "source": [
        "fruits.insert(3, '배')\n",
        "print(fruits)"
      ],
      "metadata": {
        "colab": {
          "base_uri": "https://localhost:8080/"
        },
        "id": "I1h1D8FAGBmQ",
        "outputId": "74d4e765-d863-49f2-c41b-fc470085598a"
      },
      "execution_count": null,
      "outputs": [
        {
          "output_type": "stream",
          "name": "stdout",
          "text": [
            "['딸기', '귤', '포도', '배', '사과', '사과']\n"
          ]
        }
      ]
    },
    {
      "cell_type": "code",
      "source": [
        "fruits[4] = \"감\"\n",
        "print(fruits)"
      ],
      "metadata": {
        "colab": {
          "base_uri": "https://localhost:8080/"
        },
        "id": "ni_m5I5-GWbF",
        "outputId": "5ed39dec-ffc9-4d25-a810-29d59d0ea384"
      },
      "execution_count": null,
      "outputs": [
        {
          "output_type": "stream",
          "name": "stdout",
          "text": [
            "['딸기', '귤', '포도', '배', '감', '사과']\n"
          ]
        }
      ]
    },
    {
      "cell_type": "code",
      "source": [
        "print(len(fruits))"
      ],
      "metadata": {
        "colab": {
          "base_uri": "https://localhost:8080/"
        },
        "id": "qfeCN6thG60E",
        "outputId": "cc076f7c-ec00-4c95-de6a-73570745d82a"
      },
      "execution_count": null,
      "outputs": [
        {
          "output_type": "stream",
          "name": "stdout",
          "text": [
            "6\n"
          ]
        }
      ]
    },
    {
      "cell_type": "code",
      "source": [
        "help(list.insert)"
      ],
      "metadata": {
        "colab": {
          "base_uri": "https://localhost:8080/"
        },
        "id": "6t8AilG5GHrK",
        "outputId": "2cd85119-96c6-453c-9e31-cafe7a8fb34c"
      },
      "execution_count": null,
      "outputs": [
        {
          "output_type": "stream",
          "name": "stdout",
          "text": [
            "Help on method_descriptor:\n",
            "\n",
            "insert(self, index, object, /)\n",
            "    Insert object before index.\n",
            "\n"
          ]
        }
      ]
    },
    {
      "cell_type": "markdown",
      "source": [
        "# 튜플(tuple)"
      ],
      "metadata": {
        "id": "IVpTNLWjHLq0"
      }
    },
    {
      "cell_type": "code",
      "source": [
        "t = (\"축구\", \"야구\", \"농구\")\n",
        "print(t, type(t))"
      ],
      "metadata": {
        "colab": {
          "base_uri": "https://localhost:8080/"
        },
        "id": "N2l7PncpGOAR",
        "outputId": "3b93a9d6-8f64-4008-a0a0-11417fbe4706"
      },
      "execution_count": null,
      "outputs": [
        {
          "output_type": "stream",
          "name": "stdout",
          "text": [
            "('축구', '야구', '농구') <class 'tuple'>\n"
          ]
        }
      ]
    },
    {
      "cell_type": "code",
      "source": [
        "print(t[0])"
      ],
      "metadata": {
        "colab": {
          "base_uri": "https://localhost:8080/"
        },
        "id": "ARoq7-5EHUJH",
        "outputId": "bd2c16cb-9fe4-4cbe-a252-4429205ff8e5"
      },
      "execution_count": null,
      "outputs": [
        {
          "output_type": "stream",
          "name": "stdout",
          "text": [
            "축구\n"
          ]
        }
      ]
    },
    {
      "cell_type": "code",
      "source": [
        "t[1] = \"하키\""
      ],
      "metadata": {
        "colab": {
          "base_uri": "https://localhost:8080/",
          "height": 174
        },
        "id": "pj5cxZJxHX7i",
        "outputId": "e3d29b42-12aa-4d98-d532-20cb77b02317"
      },
      "execution_count": null,
      "outputs": [
        {
          "output_type": "error",
          "ename": "TypeError",
          "evalue": "ignored",
          "traceback": [
            "\u001b[0;31m---------------------------------------------------------------------------\u001b[0m",
            "\u001b[0;31mTypeError\u001b[0m                                 Traceback (most recent call last)",
            "\u001b[0;32m<ipython-input-68-d613c1dcd9f9>\u001b[0m in \u001b[0;36m<module>\u001b[0;34m\u001b[0m\n\u001b[0;32m----> 1\u001b[0;31m \u001b[0mt\u001b[0m\u001b[0;34m[\u001b[0m\u001b[0;36m1\u001b[0m\u001b[0;34m]\u001b[0m \u001b[0;34m=\u001b[0m \u001b[0;34m\"하키\"\u001b[0m\u001b[0;34m\u001b[0m\u001b[0;34m\u001b[0m\u001b[0m\n\u001b[0m",
            "\u001b[0;31mTypeError\u001b[0m: 'tuple' object does not support item assignment"
          ]
        }
      ]
    },
    {
      "cell_type": "markdown",
      "source": [
        "# 딕셔너리 = **키, 밸류**"
      ],
      "metadata": {
        "id": "sJMoqlNIH17L"
      }
    },
    {
      "cell_type": "code",
      "source": [
        "my_dict = {\"사과\":\"맛있다\",\n",
        "           \"딸기\":\"비싸다\"}\n",
        "print(type(my_dict))\n",
        "print(my_dict)"
      ],
      "metadata": {
        "colab": {
          "base_uri": "https://localhost:8080/"
        },
        "id": "3ENn2OAHHawi",
        "outputId": "2eb0b6f3-be83-48e4-de12-f8d383e7ab11"
      },
      "execution_count": null,
      "outputs": [
        {
          "output_type": "stream",
          "name": "stdout",
          "text": [
            "<class 'dict'>\n",
            "{'사과': '맛있다', '딸기': '비싸다'}\n"
          ]
        }
      ]
    },
    {
      "cell_type": "code",
      "source": [
        "print(my_dict[\"사과\"])"
      ],
      "metadata": {
        "colab": {
          "base_uri": "https://localhost:8080/"
        },
        "id": "bHAN8W_jIKXl",
        "outputId": "9746ad82-ea84-4256-a824-5b5502cfa19f"
      },
      "execution_count": null,
      "outputs": [
        {
          "output_type": "stream",
          "name": "stdout",
          "text": [
            "맛있다\n"
          ]
        }
      ]
    },
    {
      "cell_type": "code",
      "source": [
        "my_dict[\"포도\"] = \"시다\"\n",
        "print(my_dict)"
      ],
      "metadata": {
        "colab": {
          "base_uri": "https://localhost:8080/"
        },
        "id": "NTZJM3rsIRGU",
        "outputId": "c64d7072-6c9a-4746-97e3-7515c24f63f8"
      },
      "execution_count": null,
      "outputs": [
        {
          "output_type": "stream",
          "name": "stdout",
          "text": [
            "{'사과': '맛있다', '딸기': '비싸다', '포도': '시다'}\n"
          ]
        }
      ]
    },
    {
      "cell_type": "markdown",
      "source": [
        "# 딕셔너리의 키만 보고 싶을 때 *dict.keys()*\n",
        "# 딕셔너리의 밸류만 보고 싶을 때 *dict.values()*"
      ],
      "metadata": {
        "id": "iDt1dQcxIoxN"
      }
    },
    {
      "cell_type": "code",
      "source": [
        "my_dict.keys()"
      ],
      "metadata": {
        "colab": {
          "base_uri": "https://localhost:8080/"
        },
        "id": "R7OfrUiXIdup",
        "outputId": "a23a5f7c-7fae-4cd7-da12-30b005389fff"
      },
      "execution_count": null,
      "outputs": [
        {
          "output_type": "execute_result",
          "data": {
            "text/plain": [
              "dict_keys(['사과', '딸기', '포도'])"
            ]
          },
          "metadata": {},
          "execution_count": 73
        }
      ]
    },
    {
      "cell_type": "code",
      "source": [
        "my_dict.values()"
      ],
      "metadata": {
        "colab": {
          "base_uri": "https://localhost:8080/"
        },
        "id": "QNlVchYNIxNL",
        "outputId": "55e94e6e-4f3d-4df7-a085-b0ac6c8e890c"
      },
      "execution_count": null,
      "outputs": [
        {
          "output_type": "execute_result",
          "data": {
            "text/plain": [
              "dict_values(['맛있다', '비싸다', '시다'])"
            ]
          },
          "metadata": {},
          "execution_count": 74
        }
      ]
    },
    {
      "cell_type": "markdown",
      "source": [
        "---"
      ],
      "metadata": {
        "id": "SfD4mnWLJeCl"
      }
    },
    {
      "cell_type": "code",
      "source": [],
      "metadata": {
        "id": "GQn53lNmNzHX"
      },
      "execution_count": null,
      "outputs": []
    }
  ]
}