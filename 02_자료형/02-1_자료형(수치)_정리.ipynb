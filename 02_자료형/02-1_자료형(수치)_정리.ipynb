{
 "cells": [
  {
   "cell_type": "markdown",
   "id": "206e0f6e",
   "metadata": {},
   "source": [
    "# 정수형"
   ]
  },
  {
   "cell_type": "code",
   "execution_count": 1,
   "id": "d1753226",
   "metadata": {},
   "outputs": [
    {
     "name": "stdout",
     "output_type": "stream",
     "text": [
      "1000\n",
      "-7\n",
      "0\n"
     ]
    }
   ],
   "source": [
    "a = 1000 #양의 정수\n",
    "print(a)\n",
    "\n",
    "a = -7 #음의 정수\n",
    "print(a)\n",
    "\n",
    "a = 0 #0\n",
    "print(a)"
   ]
  },
  {
   "cell_type": "markdown",
   "id": "97b8ab8a",
   "metadata": {},
   "source": [
    "# 실수형"
   ]
  },
  {
   "cell_type": "code",
   "execution_count": 2,
   "id": "02926574",
   "metadata": {},
   "outputs": [
    {
     "name": "stdout",
     "output_type": "stream",
     "text": [
      "157.93\n",
      "-1837.2\n",
      "5.0\n",
      "-0.7\n"
     ]
    }
   ],
   "source": [
    "# 양의 실수\n",
    "a = 157.93\n",
    "print(a)\n",
    "\n",
    "# 음의 실수\n",
    "a = -1837.2\n",
    "print(a)\n",
    "\n",
    "# 소수부가 0일 때 0을 생략\n",
    "a = 5.\n",
    "print(a)\n",
    "\n",
    "# 정수부가 0일 때 0을 생략\n",
    "a = -.7\n",
    "print(a)"
   ]
  },
  {
   "cell_type": "markdown",
   "id": "1965d236",
   "metadata": {},
   "source": [
    "# 지수 표현 방식 : e"
   ]
  },
  {
   "cell_type": "code",
   "execution_count": 4,
   "id": "7b9e83b7",
   "metadata": {},
   "outputs": [
    {
     "name": "stdout",
     "output_type": "stream",
     "text": [
      "1000000000.0\n",
      "752.5\n",
      "3.954\n"
     ]
    }
   ],
   "source": [
    "# 10억의 지수 표현 방식\n",
    "a = 1e9\n",
    "print(a)\n",
    "\n",
    "# 752.5\n",
    "a = 75.25e1\n",
    "print(a)\n",
    "\n",
    "# 3.954\n",
    "a = 3954e-3\n",
    "print(a)"
   ]
  },
  {
   "cell_type": "markdown",
   "id": "cf9ebca1",
   "metadata": {},
   "source": [
    "10진수 체계에서는 0.3과 0.6을 더한값이 0.9로 정확히 떨어지지만, 2진수에서는 0.9를 정확히 표현 할 수 있는 방법이 없다.\n",
    "\n",
    "\n",
    "다음 예시를 확인해보면, 0.3과 0.6을 더한값이 0.899999999999999로 저장되는 것을 알 수 있다."
   ]
  },
  {
   "cell_type": "code",
   "execution_count": 5,
   "id": "e3c5e0cf",
   "metadata": {},
   "outputs": [
    {
     "name": "stdout",
     "output_type": "stream",
     "text": [
      "0.8999999999999999\n",
      "False\n"
     ]
    }
   ],
   "source": [
    "a = 0.3 + 0.6\n",
    "print(a)\n",
    "\n",
    "if a == 0.9:\n",
    "    print(True)\n",
    "else:\n",
    "    print(False)"
   ]
  },
  {
   "cell_type": "markdown",
   "id": "c26bb717",
   "metadata": {},
   "source": [
    "따라서 소수점 값을 비교하는 작업이 필요한 문제라면 실수 값을 비교하지 못해서 원하는 결과를 못 얻을 수 있다.\n",
    "\n",
    "이럴 때는 **round()** 함수를 이용할 수 있다.\n",
    "\n",
    "round()함수를 호출할 때는 인자를 넣는데 첫번째 인자는 실수형 데이터이고. 두번째 인자는 (반올림하고자 하는 위치 - 1)이다. \n",
    "\n",
    "예를들어 123.456을 소수점 셋째 자리에서 반올림하려면 round(123.456, 2)라고 작성하며 결과는123.46이다. \n",
    "\n",
    "(두번째 인자 없이) 인자를 하나만 넣을 때는 소수점 첫째 자리에서 반올림한다."
   ]
  },
  {
   "cell_type": "code",
   "execution_count": 8,
   "id": "866dd0c4",
   "metadata": {},
   "outputs": [
    {
     "name": "stdout",
     "output_type": "stream",
     "text": [
      "0.9\n",
      "True\n"
     ]
    }
   ],
   "source": [
    "a = 0.3 + 0.6\n",
    "a = round(a,4)\n",
    "print(a)\n",
    "\n",
    "if a == 0.9:\n",
    "    print(True)\n",
    "else:\n",
    "    print(False)"
   ]
  },
  {
   "cell_type": "markdown",
   "id": "fbc188b5",
   "metadata": {},
   "source": [
    "# 수 자료형의 연산\n",
    "\n",
    "- 프로그래밍에서는 사칙연산(+, -, X, /)을 이용해 계산\n",
    "    - 이중에 나누기 연산자(/)를 주의해서 사용\n",
    "    - 파이썬에서 나누기 연산자(/)는 나눠진 결과를 기본적으로 실수형으로 처리\n",
    "- 나머지 연산자 (%)\n",
    "- 몫 연산자 (//)\n",
    "- 거듭제곱 연산자 (**)"
   ]
  },
  {
   "cell_type": "code",
   "execution_count": 11,
   "id": "f9133472",
   "metadata": {},
   "outputs": [
    {
     "name": "stdout",
     "output_type": "stream",
     "text": [
      "2.3333333333333335\n",
      "1\n",
      "2\n",
      "343\n"
     ]
    }
   ],
   "source": [
    "a = 7\n",
    "b = 3\n",
    "\n",
    "# 나누기\n",
    "print(a / b)\n",
    "\n",
    "# 나머지\n",
    "print(a % b)\n",
    "\n",
    "# 몫\n",
    "print(a//b)\n",
    "\n",
    "# 거듭제곱\n",
    "print(a ** b)"
   ]
  }
 ],
 "metadata": {
  "kernelspec": {
   "display_name": "Python 3 (ipykernel)",
   "language": "python",
   "name": "python3"
  },
  "language_info": {
   "codemirror_mode": {
    "name": "ipython",
    "version": 3
   },
   "file_extension": ".py",
   "mimetype": "text/x-python",
   "name": "python",
   "nbconvert_exporter": "python",
   "pygments_lexer": "ipython3",
   "version": "3.10.5"
  }
 },
 "nbformat": 4,
 "nbformat_minor": 5
}
