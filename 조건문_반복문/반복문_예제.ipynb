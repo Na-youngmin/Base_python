{
 "cells": [
  {
   "cell_type": "markdown",
   "id": "10448bce",
   "metadata": {},
   "source": [
    "## 반복문 예제\n",
    "\n",
    "- while문 예제\n",
    "- while True문 예제\n",
    "- 응용문제"
   ]
  },
  {
   "cell_type": "markdown",
   "id": "a5c81ce7",
   "metadata": {},
   "source": [
    "### while문 예제"
   ]
  },
  {
   "cell_type": "code",
   "execution_count": 2,
   "id": "ff44ff3f",
   "metadata": {},
   "outputs": [
    {
     "name": "stdout",
     "output_type": "stream",
     "text": [
      "숫자를 입력하시오: 4\n",
      "숫자를 입력하시오: 1\n",
      "숫자를 입력하시오: 5\n",
      "숫자를 입력하시오: 23\n",
      "숫자일치\n"
     ]
    }
   ],
   "source": [
    "number = \"\"\n",
    "while number != 23 :\n",
    "    number = int(input(\"숫자를 입력하시오: \")) \n",
    "print(\"숫자일치\") "
   ]
  },
  {
   "cell_type": "code",
   "execution_count": 27,
   "id": "bd2afc21",
   "metadata": {},
   "outputs": [
    {
     "name": "stdout",
     "output_type": "stream",
     "text": [
      "합계는 55\n"
     ]
    }
   ],
   "source": [
    "number  = 1\n",
    "sum = 0\n",
    "while number <= 10:\n",
    "    sum = sum + number\n",
    "    number = number + 1\n",
    "print('합계는',sum)"
   ]
  },
  {
   "cell_type": "markdown",
   "id": "2ee28256",
   "metadata": {},
   "source": [
    "### while True문 예제\n",
    "\n",
    "사용자가 멈추기 전까지 멈추지 않는다!"
   ]
  },
  {
   "cell_type": "code",
   "execution_count": 3,
   "id": "040e62dd",
   "metadata": {},
   "outputs": [
    {
     "name": "stdout",
     "output_type": "stream",
     "text": [
      "Enter something:Hello my name is Nayoungmin\n",
      "Length of the string is 27\n",
      "Enter something:안녕 나는 나영민이야\n",
      "Length of the string is 11\n",
      "Enter something:제 소개를 하자면..\n",
      "Length of the string is 11\n",
      "Enter something:quit\n",
      "Done\n"
     ]
    }
   ],
   "source": [
    "while True:\n",
    "    s = input('Enter something:')\n",
    "    if s == 'quit':\n",
    "        break\n",
    "    print('Length of the string is', len(s))\n",
    "print('Done')"
   ]
  },
  {
   "cell_type": "code",
   "execution_count": 28,
   "id": "de952d42",
   "metadata": {
    "scrolled": true
   },
   "outputs": [
    {
     "name": "stdout",
     "output_type": "stream",
     "text": [
      "Enter an integer:50\n",
      "No, it is a little lower than that.\n",
      "Enter an integer:22\n",
      "No, it is a little higher than that.\n",
      "Enter an integer:23\n",
      "Congratulations, you guessed it.\n",
      "The while loop is over.\n",
      "Done\n"
     ]
    }
   ],
   "source": [
    "number = 23\n",
    "running = True\n",
    "while running:\n",
    "    guess = int(input('Enter an integer:'))\n",
    "    if guess == number:\n",
    "        print('Congratulations, you guessed it.')\n",
    "        #this causes the while loop to stop\n",
    "        running = False\n",
    "    elif guess < number:\n",
    "        print('No, it is a little higher than that.')\n",
    "    else:\n",
    "        print( 'No, it is a little lower than that.')\n",
    "else:\n",
    "    print( 'The while loop is over.')\n",
    "    # Do anything else you want to do here\n",
    "print( 'Done')\n",
    "        "
   ]
  },
  {
   "cell_type": "code",
   "execution_count": 4,
   "id": "c05078bf",
   "metadata": {},
   "outputs": [
    {
     "name": "stdout",
     "output_type": "stream",
     "text": [
      "Enter something : 안녕?\n",
      "Enter something : ㅎㅇ\n",
      "Too small\n",
      "Enter something : 만나서 반가워\n",
      "Enter something : ㅋ\n",
      "Too small\n",
      "Enter something : quit\n",
      "Input is of sufficient length\n"
     ]
    }
   ],
   "source": [
    "while True:\n",
    "    s = input('Enter something : ') \n",
    "    if s == 'quit':\n",
    "        break \n",
    "    if len(s) < 3:\n",
    "        print('Too small')\n",
    "        continue\n",
    "print('Input is of sufficient length')\n",
    "# Do other kinds of processing here..."
   ]
  },
  {
   "cell_type": "markdown",
   "id": "b674b68f",
   "metadata": {},
   "source": [
    "### for문 예제"
   ]
  },
  {
   "cell_type": "code",
   "execution_count": 30,
   "id": "a643b3c3",
   "metadata": {},
   "outputs": [
    {
     "name": "stdout",
     "output_type": "stream",
     "text": [
      "1\n",
      "2\n",
      "3\n",
      "4\n",
      "The for loop is over\n"
     ]
    }
   ],
   "source": [
    "for i in range(1, 5):\n",
    "    print(i) \n",
    "else:\n",
    "    print('The for loop is over')"
   ]
  },
  {
   "cell_type": "code",
   "execution_count": 31,
   "id": "a6d47186",
   "metadata": {},
   "outputs": [
    {
     "name": "stdout",
     "output_type": "stream",
     "text": [
      "회원님, 환영합니다.\n",
      "회원님, 환영합니다.\n",
      "회원님, 환영합니다.\n",
      "회원님, 환영합니다.\n",
      "회원님, 환영합니다.\n"
     ]
    }
   ],
   "source": [
    "for i in[1,2,3,4,5]:\n",
    "    print('회원님, 환영합니다.')"
   ]
  },
  {
   "cell_type": "code",
   "execution_count": 32,
   "id": "82af1887",
   "metadata": {},
   "outputs": [
    {
     "name": "stdout",
     "output_type": "stream",
     "text": [
      "i= 1\n",
      "i= 2\n",
      "i= 3\n",
      "i= 4\n",
      "i= 5\n"
     ]
    }
   ],
   "source": [
    "for i in [1, 2, 3, 4, 5]: \n",
    "    print(\"i=\", i)\n",
    " "
   ]
  },
  {
   "cell_type": "code",
   "execution_count": 33,
   "id": "1da3019f",
   "metadata": {},
   "outputs": [
    {
     "name": "stdout",
     "output_type": "stream",
     "text": [
      "9* 1 = 9\n",
      "9* 2 = 18\n",
      "9* 3 = 27\n",
      "9* 4 = 36\n",
      "9* 5 = 45\n"
     ]
    }
   ],
   "source": [
    "for i in [1, 2, 3, 4, 5]: \n",
    "    print(\"9*\", i, \"=\", 9*i)"
   ]
  },
  {
   "cell_type": "code",
   "execution_count": 34,
   "id": "b09f4778",
   "metadata": {},
   "outputs": [
    {
     "name": "stdout",
     "output_type": "stream",
     "text": [
      "방문을 환영합니다!\n",
      "방문을 환영합니다!\n",
      "방문을 환영합니다!\n",
      "방문을 환영합니다!\n",
      "방문을 환영합니다!\n"
     ]
    }
   ],
   "source": [
    "for i in range(5):\n",
    "    print('방문을 환영합니다!')"
   ]
  },
  {
   "cell_type": "code",
   "execution_count": 35,
   "id": "6695733c",
   "metadata": {},
   "outputs": [
    {
     "name": "stdout",
     "output_type": "stream",
     "text": [
      "정수를 입력하시오: 5\n"
     ]
    }
   ],
   "source": [
    "N = int(input(\"정수를 입력하시오: \")) \n",
    "Factorial = 1\n",
    "for i in range(1, N+1):\n",
    "    Factorial = Factorial * i"
   ]
  },
  {
   "cell_type": "code",
   "execution_count": null,
   "id": "67641474",
   "metadata": {},
   "outputs": [],
   "source": []
  }
 ],
 "metadata": {
  "kernelspec": {
   "display_name": "Python 3 (ipykernel)",
   "language": "python",
   "name": "python3"
  },
  "language_info": {
   "codemirror_mode": {
    "name": "ipython",
    "version": 3
   },
   "file_extension": ".py",
   "mimetype": "text/x-python",
   "name": "python",
   "nbconvert_exporter": "python",
   "pygments_lexer": "ipython3",
   "version": "3.10.5"
  }
 },
 "nbformat": 4,
 "nbformat_minor": 5
}
