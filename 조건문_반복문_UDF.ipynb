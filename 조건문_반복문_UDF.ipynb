{
  "nbformat": 4,
  "nbformat_minor": 0,
  "metadata": {
    "colab": {
      "provenance": [],
      "include_colab_link": true
    },
    "kernelspec": {
      "name": "python3",
      "display_name": "Python 3"
    },
    "language_info": {
      "name": "python"
    }
  },
  "cells": [
    {
      "cell_type": "markdown",
      "metadata": {
        "id": "view-in-github",
        "colab_type": "text"
      },
      "source": [
        "<a href=\"https://colab.research.google.com/github/Na-youngmin/Base_python/blob/main/%EC%A1%B0%EA%B1%B4%EB%AC%B8_%EB%B0%98%EB%B3%B5%EB%AC%B8_UDF.ipynb\" target=\"_parent\"><img src=\"https://colab.research.google.com/assets/colab-badge.svg\" alt=\"Open In Colab\"/></a>"
      ]
    },
    {
      "cell_type": "markdown",
      "source": [
        "# if 문 (조건문)"
      ],
      "metadata": {
        "id": "tcbl7UDDvHx8"
      }
    },
    {
      "cell_type": "code",
      "execution_count": null,
      "metadata": {
        "id": "Pu70K_aah-LV",
        "colab": {
          "base_uri": "https://localhost:8080/"
        },
        "outputId": "41d78ead-d924-42d7-b192-a8b1defc90f9"
      },
      "outputs": [
        {
          "output_type": "stream",
          "name": "stdout",
          "text": [
            "가격을 입력해주세요.9\n",
            "Buy!\n"
          ]
        }
      ],
      "source": [
        "# 만약 가격이 10,000원 이하라면 Buy!를 출력\n",
        "# 만약 가격이 10,000원 초과라면 Sell!을 출력\n",
        "price = input(\"가격을 입력해주세요.\")\n",
        "# input은 사용자의 입력을 받아서 \"문자열\"로 저장\n",
        "price = int(price)\n",
        "\n",
        "if price <= 10_000:\n",
        "  print(\"Buy!\")\n",
        "else: # 콜론은 들여쓰기를 시작할거야!\n",
        "  print(\"Sell!\")\n",
        "\n",
        "print(\"Done.\")\n",
        "# 들여쓰기를 끝내면 자동으로 if 문은 종료"
      ]
    },
    {
      "cell_type": "code",
      "source": [
        "score = int(input(\"점수를 입력해주세요.\"))\n",
        "\n",
        "if score > 90: # 만약 조건 1을 만족한다면\n",
        "  print(\"완벽해요!\") # 조건 1을 만족할 때만 실행되는 영역\n",
        "elif score > 80: # 만약 조건 2를 만족한다면\n",
        "  print(\"참 잘했어요!\")\n",
        "else: # 만약 조건 1, 조건 2를 모두 만족하지 않는다면\n",
        "  print(\"분발하세요!\") # 어떤 조건도 만족하지 않을때 실행되는 영역\n",
        "\n",
        "print(\"바이~!\") # 조건과 관계없이 실행되는 영역"
      ],
      "metadata": {
        "id": "I5Pqqu2P7owV"
      },
      "execution_count": null,
      "outputs": []
    },
    {
      "cell_type": "markdown",
      "source": [
        "# for 문 (반복할 때 사용!)"
      ],
      "metadata": {
        "id": "Gmrgw9zDvJAr"
      }
    },
    {
      "cell_type": "code",
      "source": [
        "# for [변수이름] in [리스트]\n",
        "# 리스트에 들어있는 각각의 원소에 대해\n",
        "# 비슷한 작업을 \"반복\"\n",
        "for i in [0, 1, 2, 3, 4, 5]: # 얼마나 반복할건지\n",
        "  # 반복할 내용\n",
        "  print(i)\n",
        "  print(\"미용실 너무 비싸.\")"
      ],
      "metadata": {
        "colab": {
          "base_uri": "https://localhost:8080/"
        },
        "id": "3mrf6gLLvh4W",
        "outputId": "7246440f-c7a8-4c78-a38f-abd4bdf474c7"
      },
      "execution_count": null,
      "outputs": [
        {
          "output_type": "stream",
          "name": "stdout",
          "text": [
            "0\n",
            "미용실 너무 비싸.\n",
            "1\n",
            "미용실 너무 비싸.\n",
            "2\n",
            "미용실 너무 비싸.\n",
            "3\n",
            "미용실 너무 비싸.\n",
            "4\n",
            "미용실 너무 비싸.\n",
            "5\n",
            "미용실 너무 비싸.\n"
          ]
        }
      ]
    },
    {
      "cell_type": "markdown",
      "source": [
        "# for와 range()"
      ],
      "metadata": {
        "id": "Dh8FWBfCw4Qr"
      }
    },
    {
      "cell_type": "code",
      "source": [
        "# range(n) : n 번 반복할 일이 있을 때\n",
        "# range(start, stop, [,step])\n",
        "# : 일정한 규칙의 숫자 리스트 만들 때\n",
        "for i in range(1, 10, 3):\n",
        "  print(i)"
      ],
      "metadata": {
        "colab": {
          "base_uri": "https://localhost:8080/"
        },
        "id": "cRd23wXawTOk",
        "outputId": "500f21ab-c47d-4ee6-8e50-7c7a65871f9a"
      },
      "execution_count": null,
      "outputs": [
        {
          "output_type": "stream",
          "name": "stdout",
          "text": [
            "1\n",
            "4\n",
            "7\n"
          ]
        }
      ]
    },
    {
      "cell_type": "markdown",
      "source": [
        "# for와 range 응용"
      ],
      "metadata": {
        "id": "m9czLPUlw6Wr"
      }
    },
    {
      "cell_type": "markdown",
      "source": [
        "1. answer = 0\n",
        "2. for 문 시작(i = 1)\n",
        "3. i = 1, answer = 0\n",
        "4. answer + i = 1\n",
        "--------\n",
        "5. i = 2, answer = 1\n",
        "6. answer + i = 3"
      ],
      "metadata": {
        "id": "LcLyPq8SxTVr"
      }
    },
    {
      "cell_type": "code",
      "source": [
        "# 1부터 100까지 숫자의 합\n",
        "answer = 0\n",
        "for i in range(1, 101):\n",
        "  answer = answer + i\n",
        "\n",
        "print(answer)"
      ],
      "metadata": {
        "colab": {
          "base_uri": "https://localhost:8080/"
        },
        "id": "yjjwDnOaw75U",
        "outputId": "f4ce034a-5f0d-459b-b901-bec02899f567"
      },
      "execution_count": null,
      "outputs": [
        {
          "output_type": "stream",
          "name": "stdout",
          "text": [
            "5050\n"
          ]
        }
      ]
    },
    {
      "cell_type": "markdown",
      "source": [
        "# 문자열이 담긴 리스트에 대한 반복"
      ],
      "metadata": {
        "id": "pKHnA5ptx9LU"
      }
    },
    {
      "cell_type": "code",
      "source": [
        "fruits = ['사과', '딸기', '포도', '귤']\n",
        "\n",
        "# 리스트인 fruits 안에 들어있는 각각의 원소\n",
        "# 그 원소들을 임시로 fruit 이라는 이름을 붙임\n",
        "for fruit in fruits:\n",
        "  print(fruit) # 원소들을 출력 (반복)"
      ],
      "metadata": {
        "colab": {
          "base_uri": "https://localhost:8080/"
        },
        "id": "_9EGnk2GxGi6",
        "outputId": "c4e2da1e-f679-4ed9-9d38-2c6f489824d9"
      },
      "execution_count": null,
      "outputs": [
        {
          "output_type": "stream",
          "name": "stdout",
          "text": [
            "사과\n",
            "딸기\n",
            "포도\n",
            "귤\n"
          ]
        }
      ]
    },
    {
      "cell_type": "markdown",
      "source": [
        "# string format"
      ],
      "metadata": {
        "id": "ovqxIz5VydiD"
      }
    },
    {
      "cell_type": "code",
      "source": [
        "# 원소는 맛있어.라고 출력한다.\n",
        "for fruit in fruits:\n",
        "  # print(fruit + \"는 맛있어.\")\n",
        "  # print(\"{}는 맛있어.\".format(fruit))\n",
        "  # print(\"{} 중에서 {}가 제일 맛있어.\".format(fruits, fruit))\n",
        "  print(fruits, \"중에서 \" + fruit + \"가 제일 맛있어.\")"
      ],
      "metadata": {
        "colab": {
          "base_uri": "https://localhost:8080/"
        },
        "id": "ZgdK9kgOye0Z",
        "outputId": "fa16796e-5143-4ed2-f42d-0b8e595da3ab"
      },
      "execution_count": null,
      "outputs": [
        {
          "output_type": "stream",
          "name": "stdout",
          "text": [
            "['사과', '딸기', '포도', '귤'] 중에서 사과가 제일 맛있어.\n",
            "['사과', '딸기', '포도', '귤'] 중에서 딸기가 제일 맛있어.\n",
            "['사과', '딸기', '포도', '귤'] 중에서 포도가 제일 맛있어.\n",
            "['사과', '딸기', '포도', '귤'] 중에서 귤가 제일 맛있어.\n"
          ]
        }
      ]
    },
    {
      "cell_type": "markdown",
      "source": [
        "# 함수(function)"
      ],
      "metadata": {
        "id": "OO344K_JzkUt"
      }
    },
    {
      "cell_type": "code",
      "source": [
        "def foo(): # 들여쓰기 시작\n",
        "  print(\"나 불렀어?\") # 들여쓴 부분에 함수 내용 작성\n",
        "\n",
        "print(\"Hello!\")"
      ],
      "metadata": {
        "colab": {
          "base_uri": "https://localhost:8080/"
        },
        "id": "AFf4wJkyypSv",
        "outputId": "ce9f1fb5-965a-4513-bc2b-ca22b7050b22"
      },
      "execution_count": null,
      "outputs": [
        {
          "output_type": "stream",
          "name": "stdout",
          "text": [
            "Hello!\n"
          ]
        }
      ]
    },
    {
      "cell_type": "code",
      "source": [
        "foo()"
      ],
      "metadata": {
        "colab": {
          "base_uri": "https://localhost:8080/"
        },
        "id": "v3QhBoRtzwBw",
        "outputId": "aa615aef-c72e-4485-c380-20175cd401d8"
      },
      "execution_count": null,
      "outputs": [
        {
          "output_type": "stream",
          "name": "stdout",
          "text": [
            "나 불렀어?\n"
          ]
        }
      ]
    },
    {
      "cell_type": "markdown",
      "source": [
        "# 입력인자가 없는 함수"
      ],
      "metadata": {
        "id": "lUWx2Y3W0WGU"
      }
    },
    {
      "cell_type": "code",
      "source": [
        "def print_ntimes():\n",
        "  print(\"데이터 사이언스\")"
      ],
      "metadata": {
        "id": "LcY9AIZT0DAy"
      },
      "execution_count": null,
      "outputs": []
    },
    {
      "cell_type": "code",
      "source": [
        "print_ntimes()"
      ],
      "metadata": {
        "colab": {
          "base_uri": "https://localhost:8080/"
        },
        "id": "nDhKWifa0Rky",
        "outputId": "1f9344cd-cc42-4b61-8a0d-ca19d6bb6ede"
      },
      "execution_count": null,
      "outputs": [
        {
          "output_type": "stream",
          "name": "stdout",
          "text": [
            "데이터 사이언스\n"
          ]
        }
      ]
    },
    {
      "cell_type": "markdown",
      "source": [
        "# 입력인자가 있는 함수"
      ],
      "metadata": {
        "id": "m0IDWfLw0ZXL"
      }
    },
    {
      "cell_type": "code",
      "source": [
        "# \"데이터 사이언스\"를 n번 출력하는 함수\n",
        "def print_ntimes(n):\n",
        "  for i in range(n):\n",
        "    print(\"데이터 사이언스\")"
      ],
      "metadata": {
        "id": "tR131ef80SyJ"
      },
      "execution_count": null,
      "outputs": []
    },
    {
      "cell_type": "code",
      "source": [
        "print_ntimes(3)"
      ],
      "metadata": {
        "colab": {
          "base_uri": "https://localhost:8080/"
        },
        "id": "o3kdHigd0it5",
        "outputId": "c050a350-22c4-4661-c686-6be00cf95df4"
      },
      "execution_count": null,
      "outputs": [
        {
          "output_type": "stream",
          "name": "stdout",
          "text": [
            "데이터 사이언스\n",
            "데이터 사이언스\n",
            "데이터 사이언스\n"
          ]
        }
      ]
    },
    {
      "cell_type": "markdown",
      "source": [
        "# 함수의 종류\n",
        "- 입력인자(입력값)가 있는가?\n",
        "- 출력값(반환값)이 있는가?"
      ],
      "metadata": {
        "id": "si14J-Qm1ICU"
      }
    },
    {
      "cell_type": "code",
      "source": [
        "# 입력값을 130%로 만들어주는 함수\n",
        "# 계산을 두 단계로 할 것\n",
        "# 1. 증가값 = 입력값 * 0.3\n",
        "# 2. 입력값 + 증가값\n",
        "\n",
        "def cal_upper_wo_return(price):\n",
        "  increment = price * 0.3\n",
        "  upper = price + increment\n",
        "  print(upper, '함수 안')\n",
        "# -> 출력값이 없는 함수"
      ],
      "metadata": {
        "id": "o10FzCM00k39"
      },
      "execution_count": null,
      "outputs": []
    },
    {
      "cell_type": "code",
      "source": [
        "cal_upper_wo_return(100)"
      ],
      "metadata": {
        "colab": {
          "base_uri": "https://localhost:8080/"
        },
        "id": "IXcyeWBl1tsz",
        "outputId": "1f87d1e9-dd7f-4b0b-9128-d3704354e78a"
      },
      "execution_count": null,
      "outputs": [
        {
          "output_type": "stream",
          "name": "stdout",
          "text": [
            "130.0\n"
          ]
        }
      ]
    },
    {
      "cell_type": "code",
      "source": [
        "def cal_upper_with_return(price):\n",
        "  increment = price * 0.3\n",
        "  upper = price + increment\n",
        "  return upper\n",
        "# -> 출력값이 있는 함수"
      ],
      "metadata": {
        "id": "e8xlHv-01um_"
      },
      "execution_count": null,
      "outputs": []
    },
    {
      "cell_type": "code",
      "source": [
        "cal_upper_with_return(100)"
      ],
      "metadata": {
        "colab": {
          "base_uri": "https://localhost:8080/"
        },
        "id": "FcZjb8HA14HD",
        "outputId": "0093deaa-7170-4dd5-dd85-75229ef100d3"
      },
      "execution_count": null,
      "outputs": [
        {
          "output_type": "execute_result",
          "data": {
            "text/plain": [
              "130.0"
            ]
          },
          "metadata": {},
          "execution_count": 37
        }
      ]
    },
    {
      "cell_type": "code",
      "source": [
        "x = cal_upper_wo_return(100)\n",
        "y = cal_upper_with_return(100)\n",
        "\n",
        "print(x)\n",
        "print(y)"
      ],
      "metadata": {
        "colab": {
          "base_uri": "https://localhost:8080/"
        },
        "id": "PM3DDA6x14JS",
        "outputId": "e49726d0-787f-4abb-9a7d-c12110e6c386"
      },
      "execution_count": null,
      "outputs": [
        {
          "output_type": "stream",
          "name": "stdout",
          "text": [
            "130.0 함수 안\n",
            "None\n",
            "130.0\n"
          ]
        }
      ]
    },
    {
      "cell_type": "markdown",
      "source": [
        "# 보통 함수에 리턴값이 존재한다면,\n",
        "# 우리는 그 리턴값을 다시 사용할 가능성이 높다."
      ],
      "metadata": {
        "id": "ejpwp5BB2sWr"
      }
    },
    {
      "cell_type": "markdown",
      "source": [
        "# 모듈(module)\n",
        "\n",
        "누군가 만들어놓은 유용한 파이썬 코드"
      ],
      "metadata": {
        "id": "SdOjElp53L3T"
      }
    },
    {
      "cell_type": "code",
      "source": [
        "import time"
      ],
      "metadata": {
        "id": "_AMbfyYw2seb"
      },
      "execution_count": null,
      "outputs": []
    },
    {
      "cell_type": "code",
      "source": [
        "time.time()"
      ],
      "metadata": {
        "colab": {
          "base_uri": "https://localhost:8080/"
        },
        "id": "TkJOXzXk3SVn",
        "outputId": "93533b05-9f59-471b-9ea0-479bc00f74a6"
      },
      "execution_count": null,
      "outputs": [
        {
          "output_type": "execute_result",
          "data": {
            "text/plain": [
              "1678776295.8009992"
            ]
          },
          "metadata": {},
          "execution_count": 42
        }
      ]
    },
    {
      "cell_type": "code",
      "source": [
        "time.ctime()"
      ],
      "metadata": {
        "colab": {
          "base_uri": "https://localhost:8080/",
          "height": 35
        },
        "id": "SfPsaVZF3VzT",
        "outputId": "a303bc1c-15e0-4ab7-fa0e-58036f2c6029"
      },
      "execution_count": null,
      "outputs": [
        {
          "output_type": "execute_result",
          "data": {
            "text/plain": [
              "'Tue Mar 14 06:45:19 2023'"
            ],
            "application/vnd.google.colaboratory.intrinsic+json": {
              "type": "string"
            }
          },
          "metadata": {},
          "execution_count": 43
        }
      ]
    },
    {
      "cell_type": "code",
      "source": [
        "import time as clock\n",
        "# 모듈을 불러올 때 별명을 붙일 수 있다"
      ],
      "metadata": {
        "id": "qFt_A30Q3buk"
      },
      "execution_count": null,
      "outputs": []
    },
    {
      "cell_type": "code",
      "source": [
        "clock.time()"
      ],
      "metadata": {
        "colab": {
          "base_uri": "https://localhost:8080/"
        },
        "id": "O2cTBb6836JY",
        "outputId": "4624cd75-1c8e-41dd-cefb-14473c711842"
      },
      "execution_count": null,
      "outputs": [
        {
          "output_type": "execute_result",
          "data": {
            "text/plain": [
              "1678776452.6029222"
            ]
          },
          "metadata": {},
          "execution_count": 45
        }
      ]
    },
    {
      "cell_type": "markdown",
      "source": [
        "```python\n",
        "# 앞으로 자주 보게될 구문\n",
        "import pandas as pd\n",
        "import numpy as np\n",
        "```"
      ],
      "metadata": {
        "id": "2IpohnJW4CT0"
      }
    },
    {
      "cell_type": "code",
      "source": [],
      "metadata": {
        "id": "T4b2e-Dw96ly"
      },
      "execution_count": null,
      "outputs": []
    }
  ]
}