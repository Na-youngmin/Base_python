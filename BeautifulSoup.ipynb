{
 "cells": [
  {
   "cell_type": "code",
   "execution_count": 3,
   "id": "6d4e708b",
   "metadata": {},
   "outputs": [
    {
     "name": "stdout",
     "output_type": "stream",
     "text": [
      "검색어를 입력하세요: 블랙핑크\n",
      "1:그룹 블랙핑크(BLACKPINK)가 기네스 세계 신기록을 추가하며 압도적 글로벌 위상을 다시금 증명했다. YG 엔터테인먼트는 11일 블랙핑크가 ‘전 세계 걸그룹 중 스포티파이에서 가장 많이 스트리밍된 아티스트’로...\n",
      "2:방탄소년단, 블랙핑크 등 국내 스타들 노래를 들을 수 있는 세계 최대 음원 플랫폼 스포티파이가 주목된다. 올해 1분기 바닥을 시작으로 상승세를 보일 것이란 전망에서다. 팟캐스트 투자 효율화, 대규모 인력 감축에...\n",
      "3:'각양각색 패션' 그룹 블랙핑크가 각양각색 패션으로 시선을 사로 잡았다. 블랙핑크가 10일 오후 'BLACKPINK WORLD TOUR BORN PINK' 일정 참석차 자카르타로 출국했다. 이날 리사, 로제, 지수는 각각 매력을 살린 패션을...\n",
      "4:이어 선배 아티스트 블랙핑크 로제의 'Gone'을 커버하는 미션을 받았고 마치 서로의 마음을 이미 알고 있다는 듯 순조롭게 파트를 분배하고 연습에 돌입했다. 완성도를 높이기 위한 연습이 계속되는 가운데, 갑작스러운...\n"
     ]
    }
   ],
   "source": [
    "from bs4 import BeautifulSoup\n",
    "import pandas as pd\n",
    "import requests\n",
    "\n",
    "base_url = 'https://search.naver.com/search.naver?where=nexearch&sm=top_hty&fbm=0&ie=utf8&query='\n",
    "keyword = input('검색어를 입력하세요: ')\n",
    "search_url = base_url + keyword\n",
    "r = requests.get(search_url)\n",
    "soup = BeautifulSoup(r.text, 'html.parser')\n",
    "items = soup.select('.api_txt_lines.dsc_txt_wrap')\n",
    "for e, item in enumerate(items,1):\n",
    "    print(f'{e}:{item.text}')"
   ]
  },
  {
   "cell_type": "code",
   "execution_count": null,
   "id": "0bf6524c",
   "metadata": {},
   "outputs": [],
   "source": []
  }
 ],
 "metadata": {
  "kernelspec": {
   "display_name": "Python 3 (ipykernel)",
   "language": "python",
   "name": "python3"
  },
  "language_info": {
   "codemirror_mode": {
    "name": "ipython",
    "version": 3
   },
   "file_extension": ".py",
   "mimetype": "text/x-python",
   "name": "python",
   "nbconvert_exporter": "python",
   "pygments_lexer": "ipython3",
   "version": "3.9.13"
  }
 },
 "nbformat": 4,
 "nbformat_minor": 5
}
