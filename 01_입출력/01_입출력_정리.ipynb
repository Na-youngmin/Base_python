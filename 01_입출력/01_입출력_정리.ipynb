{
 "cells": [
  {
   "cell_type": "markdown",
   "id": "7790c7bf",
   "metadata": {},
   "source": [
    "# 입력"
   ]
  },
  {
   "cell_type": "markdown",
   "id": "736dd97a",
   "metadata": {},
   "source": [
    "## 입력을 위한 전형적인 소스코드"
   ]
  },
  {
   "cell_type": "code",
   "execution_count": 1,
   "id": "ac256fc2",
   "metadata": {},
   "outputs": [
    {
     "name": "stdout",
     "output_type": "stream",
     "text": [
      "5\n",
      "65 90 75 65 34\n",
      "[90, 75, 65, 65, 34]\n"
     ]
    }
   ],
   "source": [
    "# 데이터의 개수 입력\n",
    "n = int(input())\n",
    "# 각 데이터를 공백으로 구분하여 입력\n",
    "data = list(map(int, input().split()))\n",
    "\n",
    "# 정렬하기\n",
    "data.sort(reverse = True)\n",
    "print(data)"
   ]
  },
  {
   "cell_type": "markdown",
   "id": "fbccf5a5",
   "metadata": {},
   "source": [
    "## 공백을 기준으로 구분하여 적은 수의 데이터 입력"
   ]
  },
  {
   "cell_type": "code",
   "execution_count": 2,
   "id": "dbf05d72",
   "metadata": {},
   "outputs": [
    {
     "name": "stdout",
     "output_type": "stream",
     "text": [
      "3 5 7\n",
      "3 5 7\n"
     ]
    }
   ],
   "source": [
    "# n, m, k를 공백으로 구분하여 입력\n",
    "n, m, k = map(int, input().split())\n",
    "\n",
    "print(n, m, k)"
   ]
  },
  {
   "cell_type": "markdown",
   "id": "00adaf13",
   "metadata": {},
   "source": [
    "# 출력"
   ]
  },
  {
   "cell_type": "markdown",
   "id": "787c3aa1",
   "metadata": {},
   "source": [
    "## 변수 출력 예시"
   ]
  },
  {
   "cell_type": "code",
   "execution_count": 9,
   "id": "996de592",
   "metadata": {},
   "outputs": [
    {
     "name": "stdout",
     "output_type": "stream",
     "text": [
      "1 2\n"
     ]
    }
   ],
   "source": [
    "# 출력할 변수들\n",
    "a = 1\n",
    "b = 2\n",
    "\n",
    "print(a,b)"
   ]
  },
  {
   "cell_type": "markdown",
   "id": "37e11a6a",
   "metadata": {},
   "source": [
    "## 출력 줄 바꿈 예시"
   ]
  },
  {
   "cell_type": "code",
   "execution_count": 10,
   "id": "cf9bcd49",
   "metadata": {},
   "outputs": [
    {
     "name": "stdout",
     "output_type": "stream",
     "text": [
      "1\n",
      "2\n"
     ]
    }
   ],
   "source": [
    "# 출력할 변수들\n",
    "a = 1\n",
    "b = 2\n",
    "\n",
    "print(a)\n",
    "print(b)"
   ]
  },
  {
   "cell_type": "markdown",
   "id": "0defd589",
   "metadata": {},
   "source": [
    "## 문자열과 수를 함께 출력 해야하는 경우"
   ]
  },
  {
   "cell_type": "code",
   "execution_count": 12,
   "id": "a1920b37",
   "metadata": {},
   "outputs": [
    {
     "ename": "TypeError",
     "evalue": "can only concatenate str (not \"int\") to str",
     "output_type": "error",
     "traceback": [
      "\u001b[0;31m---------------------------------------------------------------------------\u001b[0m",
      "\u001b[0;31mTypeError\u001b[0m                                 Traceback (most recent call last)",
      "Input \u001b[0;32mIn [12]\u001b[0m, in \u001b[0;36m<cell line: 4>\u001b[0;34m()\u001b[0m\n\u001b[1;32m      1\u001b[0m answer \u001b[38;5;241m=\u001b[39m \u001b[38;5;241m7\u001b[39m\n\u001b[1;32m      3\u001b[0m \u001b[38;5;66;03m# 틀린 예시\u001b[39;00m\n\u001b[0;32m----> 4\u001b[0m \u001b[38;5;28mprint\u001b[39m(\u001b[38;5;124;43m'\u001b[39;49m\u001b[38;5;124;43m정답은\u001b[39;49m\u001b[38;5;124;43m'\u001b[39;49m\u001b[38;5;241;43m+\u001b[39;49m\u001b[43m \u001b[49m\u001b[43manswer\u001b[49m\u001b[38;5;241m+\u001b[39m\u001b[38;5;124m'\u001b[39m\u001b[38;5;124m입니다.\u001b[39m\u001b[38;5;124m'\u001b[39m)\n",
      "\u001b[0;31mTypeError\u001b[0m: can only concatenate str (not \"int\") to str"
     ]
    }
   ],
   "source": [
    "answer = 7\n",
    "\n",
    "# 틀린 예시\n",
    "print('정답은'+ answer+'입니다.')"
   ]
  },
  {
   "cell_type": "code",
   "execution_count": 14,
   "id": "7612ab2e",
   "metadata": {},
   "outputs": [
    {
     "name": "stdout",
     "output_type": "stream",
     "text": [
      "정답은 7 입니다.\n",
      "정답은 7 입니다.\n"
     ]
    }
   ],
   "source": [
    "answer = 7\n",
    "\n",
    "# 변수를 문자열로 바꾸어 출력하는 소스코드 예시\n",
    "print('정답은 '+ str(answer)+' 입니다.')\n",
    "\n",
    "# 변수를 문자와 구분하여 출력하는 소스코드 예시\n",
    "print('정답은',answer,'입니다.')"
   ]
  },
  {
   "cell_type": "markdown",
   "id": "599cf74c",
   "metadata": {},
   "source": [
    "## f-string 출력\n",
    "- Python3.6이상의 버전부터 f-string문법을 사용할 수 있다. \n",
    "- f-string은 문자열 앞에 접두사'f'를 붙임으로써 사용할 수 있는데, f-string을 이용하면 단순히 중괄호(1))안에 변수를 넣음으로써, \n",
    "- 자료형의 변환 없이도 바꾸지 않고도 간단히 문자열과 정수를 함께 넣을 수 있다."
   ]
  },
  {
   "cell_type": "code",
   "execution_count": 15,
   "id": "f5c5a285",
   "metadata": {},
   "outputs": [
    {
     "name": "stdout",
     "output_type": "stream",
     "text": [
      "정답은 7입니다.\n"
     ]
    }
   ],
   "source": [
    "answer = 7\n",
    "print(f'정답은 {answer}입니다.')"
   ]
  }
 ],
 "metadata": {
  "kernelspec": {
   "display_name": "Python 3 (ipykernel)",
   "language": "python",
   "name": "python3"
  },
  "language_info": {
   "codemirror_mode": {
    "name": "ipython",
    "version": 3
   },
   "file_extension": ".py",
   "mimetype": "text/x-python",
   "name": "python",
   "nbconvert_exporter": "python",
   "pygments_lexer": "ipython3",
   "version": "3.10.5"
  }
 },
 "nbformat": 4,
 "nbformat_minor": 5
}
