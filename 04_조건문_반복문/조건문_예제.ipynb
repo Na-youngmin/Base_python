{
 "cells": [
  {
   "cell_type": "markdown",
   "id": "10448bce",
   "metadata": {},
   "source": [
    "## 조건문 예제"
   ]
  },
  {
   "cell_type": "markdown",
   "id": "3cc2c951",
   "metadata": {},
   "source": [
    "#### 합격여부 판별하기"
   ]
  },
  {
   "cell_type": "code",
   "execution_count": 2,
   "id": "db29cdd3",
   "metadata": {},
   "outputs": [
    {
     "name": "stdout",
     "output_type": "stream",
     "text": [
      "성적을 입력하시오: 70\n",
      "합격입니다.\n"
     ]
    }
   ],
   "source": [
    "score = int(input(\"성적을 입력하시오: \")) \n",
    "if score >= 60:\n",
    "    print(\"합격입니다.\")\n",
    "else:\n",
    "    print(\"불합격입니다.\")"
   ]
  },
  {
   "cell_type": "markdown",
   "id": "e9775b79",
   "metadata": {},
   "source": [
    "#### 짝수,홀수 구분하기"
   ]
  },
  {
   "cell_type": "code",
   "execution_count": 7,
   "id": "e694e42c",
   "metadata": {},
   "outputs": [
    {
     "name": "stdout",
     "output_type": "stream",
     "text": [
      "정수를 입력하시오: 12\n",
      "짝수입니다.\n"
     ]
    }
   ],
   "source": [
    "num = int(input(\"정수를 입력하시오: \")) \n",
    "if num % 2 == 0 :\n",
    "    print(\"짝수입니다.\") \n",
    "else:\n",
    "    print(\"홀수입니다.\")\n",
    " "
   ]
  },
  {
   "cell_type": "markdown",
   "id": "9362613b",
   "metadata": {},
   "source": [
    "### 응용문제\n",
    "#### 윤년 구하기"
   ]
  },
  {
   "cell_type": "code",
   "execution_count": 13,
   "id": "d2203485",
   "metadata": {},
   "outputs": [
    {
     "name": "stdout",
     "output_type": "stream",
     "text": [
      "연도를 입력하시오: 2022\n",
      "2022 년은 윤년이 아닙니다.\n"
     ]
    }
   ],
   "source": [
    "year = int(input(\"연도를 입력하시오: \"))\n",
    "\n",
    "if ( (year % 4 ==0 and year % 100 != 0) or year % 400 == 0):\n",
    "    print(year, \"년은 윤년입니다.\") \n",
    "else :\n",
    "    print(year, \"년은 윤년이 아닙니다.\")\n",
    " "
   ]
  },
  {
   "cell_type": "markdown",
   "id": "bce40e2c",
   "metadata": {},
   "source": [
    "#### 조건이 3개일땐?"
   ]
  },
  {
   "cell_type": "code",
   "execution_count": 14,
   "id": "3435b717",
   "metadata": {},
   "outputs": [
    {
     "name": "stdout",
     "output_type": "stream",
     "text": [
      "정수를 입력하시오: 52\n",
      "양수입니다.\n"
     ]
    }
   ],
   "source": [
    "num = int(input(\"정수를 입력하시오: \"))\n",
    "if num > 0: \n",
    "    print(\"양수입니다.\")\n",
    "elif num == 0:\n",
    "    print(\"0입니다.\")\n",
    "else:\n",
    "    print(\"음수입니다.\")\n",
    " "
   ]
  },
  {
   "cell_type": "markdown",
   "id": "b591382d",
   "metadata": {},
   "source": [
    "### 난수이용"
   ]
  },
  {
   "cell_type": "code",
   "execution_count": 16,
   "id": "5caef7ad",
   "metadata": {},
   "outputs": [],
   "source": [
    "import random\n",
    "time = random.randint(1,24)\n",
    "sunny = random.choice([True,False])"
   ]
  },
  {
   "cell_type": "code",
   "execution_count": 17,
   "id": "62396d5d",
   "metadata": {},
   "outputs": [
    {
     "name": "stdout",
     "output_type": "stream",
     "text": [
      "좋은 아침입니다. 지금 시각은 8시 입니다.\n",
      "현재 날씨가 화창하지 않습니다.\n",
      "종달새가 노래를 하지 않는다.\n"
     ]
    }
   ],
   "source": [
    "import random\n",
    "time = random.randint(1,24)\n",
    "print(\"좋은 아침입니다. 지금 시각은 \" + str(time) + \"시 입니다.\")\n",
    "\n",
    "sunny = random.choice([True, False])\n",
    "if sunny:\n",
    "    print((\"현재 날씨가 화창합니다. \"))\n",
    "else:\n",
    "    print('현재 날씨가 화창하지 않습니다.')\n",
    "    \n",
    "# 종달새가 노래를 할 것인지를 판단해보자\n",
    "if time >= 6 and time < 9 and sunny:\n",
    "    print('종달새가 노래를 한다')\n",
    "else:\n",
    "    print('종달새가 노래를 하지 않는다.')"
   ]
  },
  {
   "cell_type": "markdown",
   "id": "cf7eda99",
   "metadata": {},
   "source": [
    "#### 회원 판별"
   ]
  },
  {
   "cell_type": "code",
   "execution_count": 19,
   "id": "2d7b6f84",
   "metadata": {},
   "outputs": [
    {
     "name": "stdout",
     "output_type": "stream",
     "text": [
      "회원번호를 입력하시오: 123456\n",
      "회원님, 환영합니다.\n"
     ]
    }
   ],
   "source": [
    "member = 123456\n",
    "M_n = int(input(\"회원번호를 입력하시오: \"))\n",
    "if M_n == member:\n",
    "    print(\"회원님, 환영합니다.\") \n",
    "else:\n",
    "    print(\"회원이 아니십니다.\")\n",
    " "
   ]
  },
  {
   "cell_type": "markdown",
   "id": "7a3f8abe",
   "metadata": {},
   "source": [
    "#### 숫자 맞추기"
   ]
  },
  {
   "cell_type": "code",
   "execution_count": 25,
   "id": "a6f0e31c",
   "metadata": {},
   "outputs": [
    {
     "name": "stdout",
     "output_type": "stream",
     "text": [
      "Enter an integer : 50\n",
      "No, it is a little lower than that\n",
      "Done\n"
     ]
    }
   ],
   "source": [
    "number = 23\n",
    "guess = int(input('Enter an integer : ')) \n",
    "if guess == number:\n",
    "# New block starts here \n",
    "    print(\"Congratulations, you guessed it.\") \n",
    "    print(\"but you do not win any prizes!\") \n",
    "    # New block ends here\n",
    "elif guess < number: \n",
    "    # Another block\n",
    "    print(\"No, it is a little higher than that\")\n",
    "    # You can do whatever you want in a block ... \n",
    "else:\n",
    "    print('No, it is a little lower than that')\n",
    "    # you must have guessed > number to reach here \n",
    "print('Done')\n",
    "    # This last statement is always executed, \n",
    "    # after the if statement is executed."
   ]
  },
  {
   "cell_type": "code",
   "execution_count": null,
   "id": "67641474",
   "metadata": {},
   "outputs": [],
   "source": []
  }
 ],
 "metadata": {
  "kernelspec": {
   "display_name": "Python 3 (ipykernel)",
   "language": "python",
   "name": "python3"
  },
  "language_info": {
   "codemirror_mode": {
    "name": "ipython",
    "version": 3
   },
   "file_extension": ".py",
   "mimetype": "text/x-python",
   "name": "python",
   "nbconvert_exporter": "python",
   "pygments_lexer": "ipython3",
   "version": "3.10.5"
  }
 },
 "nbformat": 4,
 "nbformat_minor": 5
}
